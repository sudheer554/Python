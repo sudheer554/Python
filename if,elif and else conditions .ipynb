{
 "cells": [
  {
   "cell_type": "markdown",
   "id": "ce54a0d5",
   "metadata": {},
   "source": [
    "### 4.1.2 If-else statement\n",
    "2\n",
    "​\n",
    "3\n",
    "   - With `if` statement an `else` statement is combined.\n",
    "4\n",
    "   - `if-else` statement have a block of code, where `if` is executed when it is `1` or `True` and `else` when `if` is `0` or `False` \n",
    "5\n",
    "   >**Note:** The `else` statement is consider to be an optional statement, so there could be only one `else` statement in block of code.\n",
    "6\n",
    "   \n",
    "7\n",
    "**Examples**"
   ]
  },
  {
   "cell_type": "code",
   "execution_count": 7,
   "id": "30910215",
   "metadata": {},
   "outputs": [
    {
     "name": "stdout",
     "output_type": "stream",
     "text": [
      "this is a valid statement\n"
     ]
    }
   ],
   "source": [
    "''' this is and conditoons\n",
    "\n",
    "0(F) 0(F)   ---- 0(F)\n",
    "1(T) 0(F)   ---- 0(F)\n",
    "0(F) 1(T)   ---- 0(F)\n",
    "1(T) 1(T)   ---- 1(T)\n",
    "'''\n",
    "\n",
    "\n",
    "a = 10\n",
    "b = 20\n",
    "\n",
    "if a == 10 and b ==20:      # == is comparison operator  # 'and' Condition \n",
    "                            # both conditions true then only it will print\n",
    "    print(\"this is a valid statement\")\n",
    "    "
   ]
  },
  {
   "cell_type": "code",
   "execution_count": 2,
   "id": "4d681d91",
   "metadata": {},
   "outputs": [
    {
     "data": {
      "text/plain": [
       "True"
      ]
     },
     "execution_count": 2,
     "metadata": {},
     "output_type": "execute_result"
    }
   ],
   "source": [
    "a == 10 and b ==20  #break down and check"
   ]
  },
  {
   "cell_type": "code",
   "execution_count": 3,
   "id": "750cd89c",
   "metadata": {},
   "outputs": [
    {
     "data": {
      "text/plain": [
       "False"
      ]
     },
     "execution_count": 3,
     "metadata": {},
     "output_type": "execute_result"
    }
   ],
   "source": [
    "a == 10 and b < 20"
   ]
  },
  {
   "cell_type": "code",
   "execution_count": 4,
   "id": "99444595",
   "metadata": {},
   "outputs": [],
   "source": [
    "if a == 10 and b > 20:\n",
    "    print(\"this is a valid statement \")   # its false thats way you are getting any output"
   ]
  },
  {
   "cell_type": "code",
   "execution_count": null,
   "id": "43b1b684",
   "metadata": {},
   "outputs": [],
   "source": []
  },
  {
   "cell_type": "code",
   "execution_count": 5,
   "id": "fc5cc957",
   "metadata": {},
   "outputs": [
    {
     "name": "stdout",
     "output_type": "stream",
     "text": [
      "this is a valid statement \n"
     ]
    }
   ],
   "source": [
    "# if if condition is 'True' print this\n",
    "# if its 'False' or not 'True' print this or if its not true go to next statement \n",
    "\n",
    "\n",
    "\n",
    "if a == 10 or b > 20:\n",
    "    print(\"this is a valid statement \")\n",
    "else :\n",
    "    print(\"Condition is not valid\")              #you can write multiple conditions  like this"
   ]
  },
  {
   "cell_type": "code",
   "execution_count": 6,
   "id": "749ce4d0",
   "metadata": {},
   "outputs": [
    {
     "name": "stdout",
     "output_type": "stream",
     "text": [
      "this is valid Statement\n"
     ]
    }
   ],
   "source": [
    "# you can write multiple conditions like this\n",
    "\n",
    "\n",
    "if a == 10 and b > 20:             \n",
    "    print(\"this is a valid in if  statement \")\n",
    "    \n",
    "elif a == 10 and b < 20:                            # a == 10 and b < 20 false condition ,so its jump into next state\n",
    "    print(\"this is valid inside elif condition\")\n",
    "    \n",
    "else :\n",
    "    print(\"Condition is not valid\")\n",
    "    \n"
   ]
  },
  {
   "cell_type": "code",
   "execution_count": 7,
   "id": "d9292e4b",
   "metadata": {},
   "outputs": [
    {
     "name": "stdout",
     "output_type": "stream",
     "text": [
      "this is valid Statement\n"
     ]
    }
   ],
   "source": [
    "if a == 10 and b > 20:             \n",
    "    print(\"this is a valid in if  statement \")\n",
    "\n",
    "elif a == 10 and b < 20:                            # a == 10 and b < 20 false condition ,so its jump into next state\n",
    "    print(\"this is valid inside elif condition\")\n",
    "\n",
    "\n",
    "    \n",
    "elif a == 10 and b == 20:\n",
    "    print(\"this is valid Statement\")\n",
    "    \n",
    "else :\n",
    "    print(\"Condition is not valid\")\n",
    "    \n",
    "    \n"
   ]
  },
  {
   "cell_type": "code",
   "execution_count": 8,
   "id": "58b97be6",
   "metadata": {},
   "outputs": [
    {
     "name": "stdout",
     "output_type": "stream",
     "text": [
      "this is a valid in if  statement \n"
     ]
    }
   ],
   "source": [
    "'''         #  this is 'or'   conditions\n",
    "\n",
    "\n",
    "0 0   ---- 0\n",
    "1 0   ---- 1\n",
    "0 1   ---- 1\n",
    "1 1   ---- 1\n",
    "\n",
    "'''\n",
    "\n",
    "\n",
    "if a == 10 or b > 20:             \n",
    "    print(\"this is a valid in if  statement \")\n",
    "\n",
    "elif a == 10 and b < 20:                            # a == 10 or b > 20  condition any is True .it will True\n",
    "    print(\"this is valid inside elif condition\")\n",
    "\n",
    "\n",
    "    \n",
    "elif a == 10 and b == 20:\n",
    "    print(\"this is valid Statement\")\n",
    "    \n",
    "else :\n",
    "    print(\"Condition is not valid\")"
   ]
  },
  {
   "cell_type": "code",
   "execution_count": 10,
   "id": "aa9b0a83",
   "metadata": {},
   "outputs": [
    {
     "name": "stdout",
     "output_type": "stream",
     "text": [
      "enter a number76\n",
      "fals\n"
     ]
    }
   ],
   "source": [
    "a = int(input(\"enter a number\"))\n",
    "\n",
    "if a < 34:\n",
    "    print(\"it true\")\n",
    "else:\n",
    "    print(\"fals\")"
   ]
  },
  {
   "cell_type": "code",
   "execution_count": null,
   "id": "3c758ad8",
   "metadata": {},
   "outputs": [],
   "source": [
    "a=int(input(\"please enter a number:\"))\n",
    "      \n",
    "if a>10:\n",
    "      pass\n",
    "else:\n",
    "      print(\"no\")"
   ]
  },
  {
   "cell_type": "code",
   "execution_count": 9,
   "id": "d779ce48",
   "metadata": {},
   "outputs": [
    {
     "name": "stdout",
     "output_type": "stream",
     "text": [
      "input a number65\n",
      " my data is lesser then 100\n"
     ]
    }
   ],
   "source": [
    "a = int(input(\"input a number\"))     # it will execute first line\n",
    "\n",
    "\n",
    "if a <34:  \n",
    "    print(\"data input is lesser then 34 and i am fine with it \")\n",
    "    \n",
    "elif a < 100:\n",
    "    print(\" my data is lesser then 100\")\n",
    "    \n",
    "else:\n",
    "    print ( \"user input is not lesser then 34 and 100\")"
   ]
  },
  {
   "cell_type": "code",
   "execution_count": null,
   "id": "29bcf5b2",
   "metadata": {},
   "outputs": [],
   "source": [
    "#task:\n",
    "\n",
    "#take a input from your keyboard as your first name and last name and then try to validate multiple conditions \n",
    "\n",
    "i = input(\"enther the name\")\n",
    "\n",
    "if i == 'sudheer':                 #you can add or condition over here\n",
    "    print(\"this is correct\")\n",
    "    \n",
    "elif i == 'swetha':\n",
    "    print(\"this is swethas name\")\n",
    "\n",
    "else:\n",
    "    print(\"you are not a valid user\")\n",
    "\n",
    "\n"
   ]
  },
  {
   "cell_type": "code",
   "execution_count": 2,
   "id": "409e99da",
   "metadata": {},
   "outputs": [
    {
     "name": "stdout",
     "output_type": "stream",
     "text": [
      "emter first namesudheer\n",
      "last namemamillapally\n",
      "this is correct user\n"
     ]
    }
   ],
   "source": [
    "name = input(\"emter first name\")\n",
    "lastname = input(\"last name\")\n",
    "\n",
    "if name == \"sudheer\" and lastname == \"mamillapally\":\n",
    "    print(\"this is correct user\")\n",
    "    \n",
    "elif name == \"sudheer\" or lastname == \"chary\":\n",
    "    print(\"he forget his last name\")\n",
    "    \n",
    "else:\n",
    "    print(\"not a valid user\")"
   ]
  },
  {
   "cell_type": "code",
   "execution_count": null,
   "id": "878be403",
   "metadata": {},
   "outputs": [],
   "source": [
    "salary = int(input('enter your salary '))\n",
    "\n",
    "if (salary > 1000):     # giving brackets will work \n",
    "    print('i will buy a car')\n",
    "    print('any number of Statements  i can write')\n",
    "    print('it means salary is more than 1000')\n",
    "    \n",
    "elif salary > 500:\n",
    "    print('i ll buy a byke')\n",
    "    print('it means salary is in between 501 to 999')\n",
    "    \n",
    "elif salary > 100:\n",
    "    print(' i will not buy anything')\n",
    "    print('it means salary is between 101 to 499')\n",
    "    \n",
    "else:\n",
    "    print('i will go for savings')\n",
    "    print('it means salary is below 99')"
   ]
  },
  {
   "cell_type": "code",
   "execution_count": null,
   "id": "077bfc9c",
   "metadata": {},
   "outputs": [],
   "source": [
    "val = float(input(\"Enter a number: \"))\n"
   ]
  },
  {
   "cell_type": "markdown",
   "id": "745aebe6",
   "metadata": {},
   "source": [
    "### 4.1.4 Nested If statement\n",
    "\n",
    "   - In some of the cases, it is required to have other check condition inside a check condition (when it `True`)\n",
    "   - Such type of scenarios required to have a nested arrangement.\n",
    "   - Under a nested if arrangement, an `if-elif-else` can be construct inside an another `if-elif-else` construct.\n",
    "   \n",
    "**Examples**"
   ]
  },
  {
   "cell_type": "code",
   "execution_count": null,
   "id": "0b0b0819",
   "metadata": {},
   "outputs": [],
   "source": [
    "'''Its a simple example to check whether \n",
    "a number is zero or positive or negative \n",
    "using nested if-else statement'''\n",
    "\n",
    "val = float(input(\"Enter a number: \"))\n",
    "if val >= 0:\n",
    "    if val == 0:\n",
    "        print(\"Zero\")\n",
    "    else:\n",
    "        print(\"Entered number is Positive\")\n",
    "else:\n",
    "    print(\"Entered number is Negative\")"
   ]
  },
  {
   "cell_type": "code",
   "execution_count": 3,
   "id": "15b418d0",
   "metadata": {},
   "outputs": [
    {
     "name": "stdout",
     "output_type": "stream",
     "text": [
      "enter your salary566\n",
      "i ll buy a byke\n",
      "it means salary is in between 501 to 999\n"
     ]
    }
   ],
   "source": [
    "salary = int(input('enter your salary'))\n",
    "if (salary > 1000):     # giving brackets will work \n",
    "    print('you salary is good')\n",
    "    if salary > 5000:\n",
    "        print('i will go with a car nano')\n",
    "        if True:\n",
    "            #print('false code')\n",
    "            #print('it will stop here')\n",
    "    elif salary > 10000:\n",
    "        print('i will go with maruthi')\n",
    "    elif salary > 50000:\n",
    "        print(\"i will go with tayota\")\n",
    "    else:\n",
    "        print('i will rent a car')\n",
    "elif salary > 500:\n",
    "    print('i ll buy a byke')\n",
    "    print('it means salary is in between 501 to 999')\n",
    "elif salary > 100:\n",
    "    print(' i will not buy anything')\n",
    "    print('it means salary is between 101 to 499')\n",
    "else:\n",
    "    print('i will go for savings')\n",
    "    print('it means salary is below 99')"
   ]
  },
  {
   "cell_type": "code",
   "execution_count": 2,
   "id": "de179e29",
   "metadata": {},
   "outputs": [
    {
     "name": "stdout",
     "output_type": "stream",
     "text": [
      "Price: 45\n",
      "Discount Rupess: 1.8\n",
      "Net payable Amount:  43.2\n"
     ]
    }
   ],
   "source": [
    "'''Its very good example to get \n",
    "the Net payable amount by setting up some \n",
    "discount at specific price range by using if-elif-else statement'''\n",
    "\n",
    "Total_Price=int(input(\"Price: \"))\n",
    "if Total_Price<100:\n",
    "    discount=Total_Price*0.04\n",
    "    print (\"Discount Rupess: \"+str(discount))\n",
    "elif Total_Price<500:\n",
    "    discount=Total_Price*0.08\n",
    "    print (\"Discount Rupess: \"+str(discount))\n",
    "else:\n",
    "    discount=Total_Price*0.1\n",
    "    print (\"Discount Rupess: \"+str(discount))\n",
    "print (\"Net payable Amount: \",Total_Price-discount)\n"
   ]
  },
  {
   "cell_type": "code",
   "execution_count": null,
   "id": "70e74ebb",
   "metadata": {},
   "outputs": [],
   "source": [
    "\n",
    "'''Its very good example to get \n",
    "the Net payable amount by setting up some \n",
    "discount at specific price range by using if-elif-else statement'''\n",
    "\n",
    "Total_Price=int(input(\"Price: \"))\n",
    "if Total_Price<100:\n",
    "    discount=Total_Price*0.04\n",
    "    print (\"Discount Rupess: \" ,(discount))\n",
    "elif Total_Price<500:\n",
    "    discount=Total_Price*0.08\n",
    "    print (\"Discount Rupess: \" ,(discount))\n",
    "else:\n",
    "    discount=Total_Price*0.1\n",
    "    print (\"Discount Rupess: \" ,(discount))\n",
    "    \n",
    "print (\"Net payable Amount: \",Total_Price-discount)"
   ]
  },
  {
   "cell_type": "code",
   "execution_count": null,
   "id": "b3390d32",
   "metadata": {},
   "outputs": [],
   "source": []
  },
  {
   "cell_type": "markdown",
   "id": "1354aacf",
   "metadata": {},
   "source": [
    "## 4.2 Loops Statements \n",
    "   * In loop, the statements are sequentially executed, execution of first function statement is done first, then second and so on.\n",
    "   * In situation where you need to perform a block of code many times then loop statement will come in to picture. \n",
    "   * It allows to execute/run group of statements or a statement multiple time.\n",
    "   \n",
    "**These are several topics of loop statements which going to be discussed below:**\n",
    "   1. **while Loop** \n",
    "   2. **for Loop**\n",
    "   3. **Nested loops**\n",
    "   4. **Loop Control**\n",
    "      * **break**\n",
    "      * **continue**\n",
    "      * **pass**"
   ]
  },
  {
   "cell_type": "markdown",
   "id": "b020a487",
   "metadata": {},
   "source": [
    "### 4.2.1 While Loop\n",
    "\n",
    "   * It repeats a statement or multiple statements when a provided condition is `True`.\n",
    "   * Before performing a loop body it check for a condition\n",
    "   \n",
    "**Examples**"
   ]
  },
  {
   "cell_type": "code",
   "execution_count": null,
   "id": "38f91906",
   "metadata": {},
   "outputs": [],
   "source": [
    "# loops will help u to do repetative tasks\n",
    "\n",
    "#speedo metor like it will starts from 0 to 100    \n",
    "\n",
    "#  o-------------100    after it will reach 100 we will apply some sort of break Statements \n",
    "\n",
    "# u can see speed breakers or sign boards on road side\n",
    "\n",
    "#this kind problem statements we use loops\n",
    "# i += 1  or  i = i+1 both or same"
   ]
  },
  {
   "cell_type": "code",
   "execution_count": null,
   "id": "3155f628",
   "metadata": {},
   "outputs": [],
   "source": [
    "# there are diffrent ways u can come out of the loop\n",
    "#this is called infinite loop\n",
    "\n",
    "'''\n",
    "\n",
    "i = 1\n",
    "j = 5\n",
    "\n",
    "while i > j:\n",
    "    print(\"this is unbrakable while loop\")\n",
    "    \n",
    "'''"
   ]
  },
  {
   "cell_type": "code",
   "execution_count": 3,
   "id": "db21ee89",
   "metadata": {},
   "outputs": [],
   "source": [
    "\n",
    "i = 1\n",
    "j = 5\n",
    "\n",
    "while i > j:\n",
    "    print(\"this is unbrakable while loop\")"
   ]
  },
  {
   "cell_type": "code",
   "execution_count": null,
   "id": "104c86a2",
   "metadata": {},
   "outputs": [],
   "source": [
    "# there are diffrent ways u can come out of the loop\n",
    "#this is called infinite loop\n",
    "\n",
    "\n",
    "\"\"\"\n",
    "\n",
    "initial_speed = 0\n",
    "final_speed = 100\n",
    "while initial_speed < final_speed:    # this is true then go into body    #it will not terminate \n",
    "    print(\"speed\")  \n",
    "    \n",
    "\"\"\""
   ]
  },
  {
   "cell_type": "code",
   "execution_count": 4,
   "id": "815c6990",
   "metadata": {},
   "outputs": [],
   "source": [
    "initial_speed = 0\n",
    "final_speed = 100\n",
    "while initial_speed < final_speed:\n",
    "    break"
   ]
  },
  {
   "cell_type": "code",
   "execution_count": 2,
   "id": "7f073025",
   "metadata": {},
   "outputs": [
    {
     "name": "stdout",
     "output_type": "stream",
     "text": [
      "1\n",
      "2\n",
      "3\n",
      "4\n"
     ]
    }
   ],
   "source": [
    "# i += 1  or  i = i+1 both or same\n",
    "\n",
    "i = 1\n",
    "j = 5\n",
    "\n",
    "while i < j:\n",
    "    print(i)\n",
    "    i = i+1    \n",
    "    \n",
    "# there are diffrent ways u can come out of the loop"
   ]
  },
  {
   "cell_type": "code",
   "execution_count": 5,
   "id": "af1d3637",
   "metadata": {},
   "outputs": [
    {
     "name": "stdout",
     "output_type": "stream",
     "text": [
      "hello: 2\n",
      "hello: 3\n",
      "hello: 4\n",
      "hello: 5\n",
      "hello: 6\n"
     ]
    }
   ],
   "source": [
    "# i += 1  or  i = i+1 both or same\n",
    "\n",
    "i=1\n",
    "\n",
    "while i<=5:\n",
    "    print(\"hello:\",i+1)\n",
    "    i= i+1                  # i += 1  or  i = i+1 both or same"
   ]
  },
  {
   "cell_type": "code",
   "execution_count": 7,
   "id": "39e1ef05",
   "metadata": {},
   "outputs": [
    {
     "name": "stdout",
     "output_type": "stream",
     "text": [
      "hello: 2\n",
      "hello: 3\n",
      "hello: 4\n",
      "hello: 5\n",
      "hello: 6\n"
     ]
    }
   ],
   "source": [
    "i=1\n",
    "\n",
    "while i<=5:\n",
    "    print(\"hello:\",i+1)\n",
    "    i += 1 "
   ]
  },
  {
   "cell_type": "code",
   "execution_count": 9,
   "id": "d0b3ab11",
   "metadata": {},
   "outputs": [
    {
     "name": "stdout",
     "output_type": "stream",
     "text": [
      "this is final speed:\n",
      "this is final speed:\n",
      "this is final speed:\n",
      "this is final speed:\n",
      "this is final speed:\n",
      "this is final speed:\n",
      "this is final speed:\n",
      "this is final speed:\n",
      "this is final speed:\n"
     ]
    }
   ],
   "source": [
    "initial_speed = 0\n",
    "final_speed = 100\n",
    "count = 1\n",
    "\n",
    "while initial_speed <= final_speed:  #its True so its enter into body\n",
    "    print(\"this is final speed:\")\n",
    "    \n",
    "    #lets example i have not writen this code what will happen\n",
    "    #this is called infinite loop\n",
    "    \n",
    "    count = count + 1           \n",
    "    if count == 10:      #its Fals so it will not go inside 'break' statement\n",
    "        break       #braek keyword\n",
    "\n"
   ]
  },
  {
   "cell_type": "code",
   "execution_count": null,
   "id": "a7d95e45",
   "metadata": {},
   "outputs": [],
   "source": []
  },
  {
   "cell_type": "code",
   "execution_count": 1,
   "id": "092cfcec",
   "metadata": {},
   "outputs": [
    {
     "name": "stdout",
     "output_type": "stream",
     "text": [
      "this is final speed: 1\n",
      "this is final speed: 2\n",
      "this is final speed: 3\n",
      "this is final speed: 4\n",
      "this is final speed: 5\n",
      "this is final speed: 6\n",
      "this is final speed: 7\n",
      "this is final speed: 8\n",
      "this is final speed: 9\n"
     ]
    }
   ],
   "source": [
    "initial_speed = 0\n",
    "final_speed = 100\n",
    "count = 1\n",
    "\n",
    "while initial_speed < final_speed:  #its True so its enter into body  # if u add <= u will get additional number\n",
    "    print(\"this is final speed:\",count)\n",
    "    count = count + 1\n",
    "    if count == 10:\n",
    "        break       #braek keyword"
   ]
  },
  {
   "cell_type": "code",
   "execution_count": 1,
   "id": "30e0f08f",
   "metadata": {},
   "outputs": [
    {
     "data": {
      "text/plain": [
       "'\\nm = 2\\nwhile m <= 10:\\n    print(m)\\n'"
      ]
     },
     "execution_count": 1,
     "metadata": {},
     "output_type": "execute_result"
    }
   ],
   "source": [
    "'''\n",
    "m = 2\n",
    "while m <= 10:\n",
    "    print(m)\n",
    "'''"
   ]
  },
  {
   "cell_type": "code",
   "execution_count": 10,
   "id": "0b5eb7e9",
   "metadata": {},
   "outputs": [
    {
     "name": "stdout",
     "output_type": "stream",
     "text": [
      "2\n",
      "3\n",
      "4\n",
      "this is five\n",
      "5\n",
      "6\n",
      "7\n",
      "8\n",
      "9\n",
      "10\n"
     ]
    }
   ],
   "source": [
    "m = 2\n",
    "while m <= 10:\n",
    "    print(m)\n",
    "    m = m+1\n",
    "    if m == 5:\n",
    "        print(\"this is five\")"
   ]
  },
  {
   "cell_type": "code",
   "execution_count": 11,
   "id": "ef3ee937",
   "metadata": {},
   "outputs": [
    {
     "name": "stdout",
     "output_type": "stream",
     "text": [
      "Enter the number: 344\n",
      "The natural number is 0\n",
      "The natural number is 1\n",
      "The natural number is 2\n",
      "The natural number is 3\n",
      "The natural number is 4\n",
      "The natural number is 5\n",
      "The natural number is 6\n",
      "The natural number is 7\n"
     ]
    }
   ],
   "source": [
    "num  = int(input(\"Enter the number: \"))\n",
    "i = 0\n",
    "while(i <= num):\n",
    "    print(\"The natural number is\", i)\n",
    "    i = i+1\n",
    "    if i == 8:\n",
    "        break\n",
    "else:\n",
    "    print(\"All the natural number are  printed. ....\")"
   ]
  },
  {
   "cell_type": "code",
   "execution_count": 5,
   "id": "7158cc87",
   "metadata": {},
   "outputs": [
    {
     "name": "stdout",
     "output_type": "stream",
     "text": [
      "1\n",
      "2\n",
      "3\n",
      "4\n",
      "Total Money:  50 Rupees\n"
     ]
    }
   ],
   "source": [
    "''' A child is learning to count number of 10 rupess in his hand \n",
    "and here we have given 5 notes of 10 rupess. \n",
    "Output will display the counting of notes and total amount'''\n",
    "# i += 1  or  i = i+1 both or same\n",
    "\n",
    "notes = 5\n",
    "i=1              # starting number intialize\n",
    "\n",
    "while i < notes:   # if u add <= u will get additional number\n",
    "    print(i)\n",
    "    i += 1       ## i += 1  or  i = i+1 both or same\n",
    "print('Total Money: ',notes*10,'Rupees')"
   ]
  },
  {
   "cell_type": "code",
   "execution_count": null,
   "id": "bdb25f6d",
   "metadata": {},
   "outputs": [],
   "source": []
  },
  {
   "cell_type": "code",
   "execution_count": 5,
   "id": "6d088d39",
   "metadata": {},
   "outputs": [
    {
     "name": "stdout",
     "output_type": "stream",
     "text": [
      "1\n",
      "2\n",
      "3\n",
      "4\n",
      "No 10 rupees note left\n",
      "Total Money:  50 Rupees\n"
     ]
    }
   ],
   "source": [
    "'''Continuing with same example, \n",
    "here we using else statement'''\n",
    "\n",
    "# u may have doubt why we use 'else' here before we use it with 'if,elif'\n",
    "# in python u will this kind of uniq things u can find it, in any other pro will not find this\n",
    "# i += 1  or  i = i+1 both or same\n",
    "\n",
    "#\n",
    "\n",
    "notes = 5\n",
    "i=1 # starting number intialize\n",
    "\n",
    "\n",
    "while i<=notes:\n",
    "    print(i)\n",
    "    i = i+ 1     # i += 1  or  i = i+1 both or same\n",
    "    \n",
    "else:           \n",
    "    print(\"No 10 rupees note left\")\n",
    "    print('Total Money: ',notes*10,'Rupees')\n",
    "\n",
    "\n",
    "# i dont want to come out of this loop \n",
    "# i want to write something else\n",
    "# while and else kind of statemnts can exist inside python not in other progr langua \n",
    "# when 'whiles' whill be 'False' itwill print 'else'"
   ]
  },
  {
   "cell_type": "code",
   "execution_count": 12,
   "id": "d8254728",
   "metadata": {},
   "outputs": [
    {
     "name": "stdout",
     "output_type": "stream",
     "text": [
      "1\n",
      "2\n",
      "3\n",
      "4\n",
      "1\n",
      "no 10 rs notes are available \n"
     ]
    }
   ],
   "source": [
    "\n",
    "notes = 5 \n",
    "i = 1 \n",
    "j = 1\n",
    "\n",
    "while i < notes:\n",
    "    print(i)\n",
    "    i += 1\n",
    "else :\n",
    "    \n",
    "    while j < 2 :\n",
    "        print(j)\n",
    "        j = j + 1 \n",
    "    print(\"no 10 rs notes are available \")\n"
   ]
  },
  {
   "cell_type": "code",
   "execution_count": 2,
   "id": "b6d9c691",
   "metadata": {},
   "outputs": [
    {
     "data": {
      "text/plain": [
       "'\\n\\n# optional\\n\\nnotes = 5\\ni=1 \\nj = 1\\n\\nwhile i <= notes:\\n    print(i)\\n    i += 1 \\n    \\nelse:\\n    while j < 2:\\n        print(j)\\n        i = i+1\\n        \\n    print(\"no of 10rs ava\")\\n    \\n'"
      ]
     },
     "execution_count": 2,
     "metadata": {},
     "output_type": "execute_result"
    }
   ],
   "source": [
    "'''\n",
    "\n",
    "# optional\n",
    "\n",
    "notes = 5\n",
    "i=1 \n",
    "j = 1\n",
    "\n",
    "while i <= notes:\n",
    "    print(i)\n",
    "    i += 1 \n",
    "    \n",
    "else:\n",
    "    while j < 2:\n",
    "        print(j)\n",
    "        i = i+1\n",
    "        \n",
    "    print(\"no of 10rs ava\")\n",
    "    \n",
    "'''"
   ]
  },
  {
   "cell_type": "code",
   "execution_count": 6,
   "id": "55933c69",
   "metadata": {},
   "outputs": [
    {
     "data": {
      "text/plain": [
       "'/Users/mac/git-repos/Python'"
      ]
     },
     "execution_count": 6,
     "metadata": {},
     "output_type": "execute_result"
    }
   ],
   "source": [
    "pwd"
   ]
  },
  {
   "cell_type": "code",
   "execution_count": null,
   "id": "d9857a56",
   "metadata": {},
   "outputs": [],
   "source": [
    "a = int(input(\"enter the multiplication number\"))\n",
    "\n",
    "i = 1\n",
    "\n",
    "while (i <= 10):\n",
    "    print(a, \"*\", i, \"=\" ,a*i )\n",
    "    i = i+1"
   ]
  }
 ],
 "metadata": {
  "kernelspec": {
   "display_name": "Python 3 (ipykernel)",
   "language": "python",
   "name": "python3"
  },
  "language_info": {
   "codemirror_mode": {
    "name": "ipython",
    "version": 3
   },
   "file_extension": ".py",
   "mimetype": "text/x-python",
   "name": "python",
   "nbconvert_exporter": "python",
   "pygments_lexer": "ipython3",
   "version": "3.9.12"
  }
 },
 "nbformat": 4,
 "nbformat_minor": 5
}
